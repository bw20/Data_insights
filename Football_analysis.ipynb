{
 "cells": [
  {
   "cell_type": "markdown",
   "metadata": {},
   "source": [
    "# Title\n",
    "As a Manchester United supporter\n",
    "\n",
    "For this analysis, I am using data from the Open Football project, which provides open public domain football data in CSV format (https://footballcsv.github.io/) for download. The Open Football project provides data from many leagues across the world, however, I will be focusing on the top division of English football for which data is provided between most of the years between 1888 to 2020.\n",
    "\n",
    "This project focuses on answering the following:\n",
    "- Does Manchester United live up to their reputation as comeback kings?\n",
    "- How successful was the Sir Alex Ferguson era of Manchester United (1992-2012) compared to other historically great English eras like 70's Liverpool, 50's Everton\n",
    "\n",
    "\n",
    "# Preparing the dataset\n",
    "\n",
    "There are a number of wrinkles with the data that will require some adjustments before we can begin the analysis proper.\n",
    "\n",
    "## Accessing the desired dataset(s)\n",
    "Firstly, the download provides CSV files for each available season in separate folders - by decade, season, and then finally CSV files for each division. \n",
    "\n",
    "For example, the path to the CSV file containing results from the 2019-20 season of the English Premier League (the top division of English football) is:\n",
    "\n",
    "> */path to folder/England-master/2010s/2019-20/eng.1.csv*\n",
    "\n",
    "For flexibility, we want to be able to access any individual season for which there is data, as well as the ability to merge them into a single dataset.\n",
    "\n",
    "For this purpose, we have a function that populates a dictionary with the correct paths for each CSV:"
   ]
  },
  {
   "cell_type": "code",
   "execution_count": 82,
   "metadata": {},
   "outputs": [
    {
     "output_type": "execute_result",
     "data": {
      "text/plain": "{'df_eng_2010-11': 'D:\\\\Google Drive\\\\New Dropbox\\\\Work stuff\\\\Professional Development\\\\Data Projects\\\\Football_python\\\\england-master\\\\2010s\\\\2010-11\\\\eng.1.csv',\n 'df_eng_2011-12': 'D:\\\\Google Drive\\\\New Dropbox\\\\Work stuff\\\\Professional Development\\\\Data Projects\\\\Football_python\\\\england-master\\\\2010s\\\\2011-12\\\\eng.1.csv',\n 'df_eng_2012-13': 'D:\\\\Google Drive\\\\New Dropbox\\\\Work stuff\\\\Professional Development\\\\Data Projects\\\\Football_python\\\\england-master\\\\2010s\\\\2012-13\\\\eng.1.csv',\n 'df_eng_2013-14': 'D:\\\\Google Drive\\\\New Dropbox\\\\Work stuff\\\\Professional Development\\\\Data Projects\\\\Football_python\\\\england-master\\\\2010s\\\\2013-14\\\\eng.1.csv',\n 'df_eng_2014-15': 'D:\\\\Google Drive\\\\New Dropbox\\\\Work stuff\\\\Professional Development\\\\Data Projects\\\\Football_python\\\\england-master\\\\2010s\\\\2014-15\\\\eng.1.csv',\n 'df_eng_2015-16': 'D:\\\\Google Drive\\\\New Dropbox\\\\Work stuff\\\\Professional Development\\\\Data Projects\\\\Football_python\\\\england-master\\\\2010s\\\\2015-16\\\\eng.1.csv',\n 'df_eng_2016-17': 'D:\\\\Google Drive\\\\New Dropbox\\\\Work stuff\\\\Professional Development\\\\Data Projects\\\\Football_python\\\\england-master\\\\2010s\\\\2016-17\\\\eng.1.csv',\n 'df_eng_2017-18': 'D:\\\\Google Drive\\\\New Dropbox\\\\Work stuff\\\\Professional Development\\\\Data Projects\\\\Football_python\\\\england-master\\\\2010s\\\\2017-18\\\\eng.1.csv',\n 'df_eng_2018-19': 'D:\\\\Google Drive\\\\New Dropbox\\\\Work stuff\\\\Professional Development\\\\Data Projects\\\\Football_python\\\\england-master\\\\2010s\\\\2018-19\\\\eng.1.csv',\n 'df_eng_2019-20': 'D:\\\\Google Drive\\\\New Dropbox\\\\Work stuff\\\\Professional Development\\\\Data Projects\\\\Football_python\\\\england-master\\\\2010s\\\\2019-20\\\\eng.1.csv'}"
     },
     "metadata": {},
     "execution_count": 82
    }
   ],
   "source": [
    "import pandas as pd\n",
    "import numpy as np\n",
    "import re\n",
    "\n",
    "#This creates a dictionary with paths to each season's CSV file. You can modify the number of seasons by decade.\n",
    "def seasons_dictionary(starting_season, ending_season):\n",
    "    eng = 'D:\\Google Drive\\\\New Dropbox\\Work stuff\\Professional Development\\Data Projects\\Football_python\\england-master'\n",
    "    seasons = {}\n",
    "    starting_decade = starting_ #NOTE: START FIXING HERE\n",
    "    ending_season = \n",
    "    for i in range(int(abs((starting_decade - ending_decade)/10)) + 1):\n",
    "        decade = starting_decade\n",
    "        decade_string = str(decade) + 's'\n",
    "        list_of_seasons = []\n",
    "        for i in range(10):\n",
    "            season = str(decade + i) + '-' + str(decade + i + 1)[2:4]\n",
    "            list_of_seasons.append(season)\n",
    "            seasons[decade_string] = list_of_seasons\n",
    "        starting_decade += 10\n",
    "    df_dictionary = {}\n",
    "    for decade in seasons:\n",
    "        for season in seasons[decade]:\n",
    "            path = eng + '\\\\' + decade + '\\\\' + season + '\\eng.1.csv'\n",
    "            df_name = 'df_eng_' + season\n",
    "            df_dictionary[df_name] = path\n",
    "    return df_dictionary\n",
    "\n",
    "#To return the paths for every season in the 2010s:\n",
    "seasons_dictionary(2010, 2010)"
   ]
  },
  {
   "cell_type": "markdown",
   "metadata": {},
   "source": [
    "Using the dictionary produced by this function, we can then specify any individual season (CSV file) to read in to a pandas dataframe."
   ]
  },
  {
   "cell_type": "code",
   "execution_count": 83,
   "metadata": {},
   "outputs": [
    {
     "output_type": "execute_result",
     "data": {
      "text/plain": "  Round                     Date                    Team 1   FT   HT  \\\n0     ?  (Sat) 16 Aug 2014 (W33)            Arsenal FC (1)  2-1  1-1   \n1     ?  (Sat) 16 Aug 2014 (W33)     Leicester City FC (1)  2-2  1-2   \n2     ?  (Sat) 16 Aug 2014 (W33)  Manchester United FC (1)  1-2  0-1   \n\n                  Team 2  \n0  Crystal Palace FC (1)  \n1         Everton FC (1)  \n2   Swansea City AFC (1)  ",
      "text/html": "<div>\n<style scoped>\n    .dataframe tbody tr th:only-of-type {\n        vertical-align: middle;\n    }\n\n    .dataframe tbody tr th {\n        vertical-align: top;\n    }\n\n    .dataframe thead th {\n        text-align: right;\n    }\n</style>\n<table border=\"1\" class=\"dataframe\">\n  <thead>\n    <tr style=\"text-align: right;\">\n      <th></th>\n      <th>Round</th>\n      <th>Date</th>\n      <th>Team 1</th>\n      <th>FT</th>\n      <th>HT</th>\n      <th>Team 2</th>\n    </tr>\n  </thead>\n  <tbody>\n    <tr>\n      <th>0</th>\n      <td>?</td>\n      <td>(Sat) 16 Aug 2014 (W33)</td>\n      <td>Arsenal FC (1)</td>\n      <td>2-1</td>\n      <td>1-1</td>\n      <td>Crystal Palace FC (1)</td>\n    </tr>\n    <tr>\n      <th>1</th>\n      <td>?</td>\n      <td>(Sat) 16 Aug 2014 (W33)</td>\n      <td>Leicester City FC (1)</td>\n      <td>2-2</td>\n      <td>1-2</td>\n      <td>Everton FC (1)</td>\n    </tr>\n    <tr>\n      <th>2</th>\n      <td>?</td>\n      <td>(Sat) 16 Aug 2014 (W33)</td>\n      <td>Manchester United FC (1)</td>\n      <td>1-2</td>\n      <td>0-1</td>\n      <td>Swansea City AFC (1)</td>\n    </tr>\n  </tbody>\n</table>\n</div>"
     },
     "metadata": {},
     "execution_count": 83
    }
   ],
   "source": [
    "#Creates a data frame from the CSV file of the specified season\n",
    "def create_df(season):\n",
    "    all_seasons = seasons_dictionary(1880, 2010)\n",
    "    all_seasons['df_eng_' + season]\n",
    "    df = pd.read_csv(all_seasons['df_eng_' + season])\n",
    "    return df\n",
    "\n",
    "#For example, here's a snapshot of the 2014-15 Premier League season:\n",
    "EPL_14_15 = create_df('2014-15')\n",
    "EPL_14_15.head(3)"
   ]
  },
  {
   "cell_type": "markdown",
   "metadata": {},
   "source": [
    "We also want to be able to look at more than a single season, even though the data is contained in separate CSV files. Building on the seasons_dictionary() function again, we can read in and merge the CSV files for multiple seasons. Here, we use the merge_df() function below to create a data frame containing *all* the available data for top flight English football, from 1888 to present.\n",
    "\n",
    "Note that not every year has data. There were interruptions to professional football, most notably during the years of the World Wars. The function has accommodated for this with error handling."
   ]
  },
  {
   "cell_type": "code",
   "execution_count": 84,
   "metadata": {},
   "outputs": [
    {
     "output_type": "execute_result",
     "data": {
      "text/plain": "      Round                    Date                           Team 1   FT  \\\n0         ?   (Sat) 8 Sep 1888 (36)          Bolton Wanderers FC (1)  3-6   \n1         ?   (Sat) 8 Sep 1888 (36)   Wolverhampton Wanderers FC (1)  1-1   \n2         ?   (Sat) 8 Sep 1888 (36)         Preston North End FC (1)  5-2   \n3         ?   (Sat) 8 Sep 1888 (36)                   Everton FC (1)  2-1   \n4         ?   (Sat) 8 Sep 1888 (36)                Stoke City FC (1)  0-2   \n...     ...                     ...                              ...  ...   \n48986     ?  (Sat) 7 Mar 2020 (W10)  Wolverhampton Wanderers FC (29)  0-0   \n48987     ?  (Sat) 7 Mar 2020 (W10)                  Burnley FC (29)  1-1   \n48988     ?  (Sun) 8 Mar 2020 (W10)                  Chelsea FC (29)  4-0   \n48989     ?  (Sun) 8 Mar 2020 (W10)        Manchester United FC (29)  2-0   \n48990     ?  (Mon) 9 Mar 2020 (W11)           Leicester City FC (29)  4-0   \n\n        HT                          Team 2  \n0        ?             Derby County FC (1)  \n1        ?              Aston Villa FC (1)  \n2        ?                  Burnley FC (1)  \n3        ?   Accrington FC (1878-1896) (1)  \n4        ?     West Bromwich Albion FC (1)  \n...    ...                             ...  \n48986  0-0  Brighton & Hove Albion FC (29)  \n48987  1-0       Tottenham Hotspur FC (29)  \n48988  2-0                 Everton FC (29)  \n48989  1-0         Manchester City FC (28)  \n48990  1-0             Aston Villa FC (28)  \n\n[48991 rows x 6 columns]",
      "text/html": "<div>\n<style scoped>\n    .dataframe tbody tr th:only-of-type {\n        vertical-align: middle;\n    }\n\n    .dataframe tbody tr th {\n        vertical-align: top;\n    }\n\n    .dataframe thead th {\n        text-align: right;\n    }\n</style>\n<table border=\"1\" class=\"dataframe\">\n  <thead>\n    <tr style=\"text-align: right;\">\n      <th></th>\n      <th>Round</th>\n      <th>Date</th>\n      <th>Team 1</th>\n      <th>FT</th>\n      <th>HT</th>\n      <th>Team 2</th>\n    </tr>\n  </thead>\n  <tbody>\n    <tr>\n      <th>0</th>\n      <td>?</td>\n      <td>(Sat) 8 Sep 1888 (36)</td>\n      <td>Bolton Wanderers FC (1)</td>\n      <td>3-6</td>\n      <td>?</td>\n      <td>Derby County FC (1)</td>\n    </tr>\n    <tr>\n      <th>1</th>\n      <td>?</td>\n      <td>(Sat) 8 Sep 1888 (36)</td>\n      <td>Wolverhampton Wanderers FC (1)</td>\n      <td>1-1</td>\n      <td>?</td>\n      <td>Aston Villa FC (1)</td>\n    </tr>\n    <tr>\n      <th>2</th>\n      <td>?</td>\n      <td>(Sat) 8 Sep 1888 (36)</td>\n      <td>Preston North End FC (1)</td>\n      <td>5-2</td>\n      <td>?</td>\n      <td>Burnley FC (1)</td>\n    </tr>\n    <tr>\n      <th>3</th>\n      <td>?</td>\n      <td>(Sat) 8 Sep 1888 (36)</td>\n      <td>Everton FC (1)</td>\n      <td>2-1</td>\n      <td>?</td>\n      <td>Accrington FC (1878-1896) (1)</td>\n    </tr>\n    <tr>\n      <th>4</th>\n      <td>?</td>\n      <td>(Sat) 8 Sep 1888 (36)</td>\n      <td>Stoke City FC (1)</td>\n      <td>0-2</td>\n      <td>?</td>\n      <td>West Bromwich Albion FC (1)</td>\n    </tr>\n    <tr>\n      <th>...</th>\n      <td>...</td>\n      <td>...</td>\n      <td>...</td>\n      <td>...</td>\n      <td>...</td>\n      <td>...</td>\n    </tr>\n    <tr>\n      <th>48986</th>\n      <td>?</td>\n      <td>(Sat) 7 Mar 2020 (W10)</td>\n      <td>Wolverhampton Wanderers FC (29)</td>\n      <td>0-0</td>\n      <td>0-0</td>\n      <td>Brighton &amp; Hove Albion FC (29)</td>\n    </tr>\n    <tr>\n      <th>48987</th>\n      <td>?</td>\n      <td>(Sat) 7 Mar 2020 (W10)</td>\n      <td>Burnley FC (29)</td>\n      <td>1-1</td>\n      <td>1-0</td>\n      <td>Tottenham Hotspur FC (29)</td>\n    </tr>\n    <tr>\n      <th>48988</th>\n      <td>?</td>\n      <td>(Sun) 8 Mar 2020 (W10)</td>\n      <td>Chelsea FC (29)</td>\n      <td>4-0</td>\n      <td>2-0</td>\n      <td>Everton FC (29)</td>\n    </tr>\n    <tr>\n      <th>48989</th>\n      <td>?</td>\n      <td>(Sun) 8 Mar 2020 (W10)</td>\n      <td>Manchester United FC (29)</td>\n      <td>2-0</td>\n      <td>1-0</td>\n      <td>Manchester City FC (28)</td>\n    </tr>\n    <tr>\n      <th>48990</th>\n      <td>?</td>\n      <td>(Mon) 9 Mar 2020 (W11)</td>\n      <td>Leicester City FC (29)</td>\n      <td>4-0</td>\n      <td>1-0</td>\n      <td>Aston Villa FC (28)</td>\n    </tr>\n  </tbody>\n</table>\n<p>48991 rows × 6 columns</p>\n</div>"
     },
     "metadata": {},
     "execution_count": 84
    }
   ],
   "source": [
    "#Finally, this function reads in any number of season datasets as specified in the argument, and merges them into a single dataframe\n",
    "def merge_df(starting_decade, ending_decade):\n",
    "    df_dictionary = seasons_dictionary(starting_decade,ending_decade)\n",
    "    df_list = []\n",
    "    for i in df_dictionary:\n",
    "        try:\n",
    "            df = pd.read_csv(df_dictionary[i], index_col=None, header=0)\n",
    "            df_list.append(df)\n",
    "        except FileNotFoundError: #This exception accommodates the fact that data is not available for all years - for example, seasons that were not played due to WW1 and WW2.\n",
    "            continue \n",
    "    merged_df = pd.concat(df_list, axis =0, ignore_index=True)\n",
    "    return merged_df\n",
    "\n",
    "#Let's make use of all the available data, from 1888 - present\n",
    "merged_df = merge_df(1880, 2010)\n",
    "merged_df"
   ]
  },
  {
   "cell_type": "markdown",
   "metadata": {},
   "source": [
    "As you can see, the merged dataset starts on the 8th September 1888 and it ends 48,991 games and 132 years later, with a game on 9th March 2020.\n",
    "\n",
    "## Cleaning and enhancing the dataset\n",
    "\n",
    "Now that we have the desired dataset, there is some cleaning to do:\n",
    "\n",
    "- The dataset has missing data in the \"Round\" and \"HT\" columns. They are marked by the '?' symbol.\n",
    "- The FT (full time) and HT (half time) scores are represented as strings, not numbers\n",
    "- We must infer the goals scored by the home and away teams by the order of the string. '4-0' means the home team scored 4 goals to the away team scored 0 goals.\n",
    "\n",
    "It would be nice (and much more useful) to be able to deal with these scores as numbers, and to have the goals explicitly attributed to the home or away teams.\n",
    "\n",
    "To clean and enhance the dataset, we will need to:\n",
    "- Get rid of the \"Round\" column - the vast majority of seasons have missing data for this column, and it is useless for our analysis.\n",
    "- Add some columns which provide ways for us to cut the data, such as the number of goals scored by the home vs. away teams, the total number of goals scored, as well as goals scored in the first half vs. the second half.\n",
    "- Find a way to handle the missing half-time scores when it comes to statistics which rely on that information."
   ]
  },
  {
   "cell_type": "code",
   "execution_count": 86,
   "metadata": {},
   "outputs": [
    {
     "output_type": "execute_result",
     "data": {
      "text/plain": "                         Date                           Team 1   FT   HT  \\\n0       (Sat) 8 Sep 1888 (36)          Bolton Wanderers FC (1)  3-6    ?   \n1       (Sat) 8 Sep 1888 (36)   Wolverhampton Wanderers FC (1)  1-1    ?   \n2       (Sat) 8 Sep 1888 (36)         Preston North End FC (1)  5-2    ?   \n3       (Sat) 8 Sep 1888 (36)                   Everton FC (1)  2-1    ?   \n4       (Sat) 8 Sep 1888 (36)                Stoke City FC (1)  0-2    ?   \n...                       ...                              ...  ...  ...   \n48986  (Sat) 7 Mar 2020 (W10)  Wolverhampton Wanderers FC (29)  0-0  0-0   \n48987  (Sat) 7 Mar 2020 (W10)                  Burnley FC (29)  1-1  1-0   \n48988  (Sun) 8 Mar 2020 (W10)                  Chelsea FC (29)  4-0  2-0   \n48989  (Sun) 8 Mar 2020 (W10)        Manchester United FC (29)  2-0  1-0   \n48990  (Mon) 9 Mar 2020 (W11)           Leicester City FC (29)  4-0  1-0   \n\n                               Team 2  Total goals  Home goals  Away goals  \\\n0                 Derby County FC (1)            9           3           6   \n1                  Aston Villa FC (1)            2           1           1   \n2                      Burnley FC (1)            7           5           2   \n3       Accrington FC (1878-1896) (1)            3           2           1   \n4         West Bromwich Albion FC (1)            2           0           2   \n...                               ...          ...         ...         ...   \n48986  Brighton & Hove Albion FC (29)            0           0           0   \n48987       Tottenham Hotspur FC (29)            2           1           1   \n48988                 Everton FC (29)            4           4           0   \n48989         Manchester City FC (28)            2           2           0   \n48990             Aston Villa FC (28)            4           4           0   \n\n       First half goals  Second half goals  \n0                   NaN                NaN  \n1                   NaN                NaN  \n2                   NaN                NaN  \n3                   NaN                NaN  \n4                   NaN                NaN  \n...                 ...                ...  \n48986               0.0                0.0  \n48987               1.0                1.0  \n48988               2.0                2.0  \n48989               1.0                1.0  \n48990               1.0                3.0  \n\n[48991 rows x 10 columns]",
      "text/html": "<div>\n<style scoped>\n    .dataframe tbody tr th:only-of-type {\n        vertical-align: middle;\n    }\n\n    .dataframe tbody tr th {\n        vertical-align: top;\n    }\n\n    .dataframe thead th {\n        text-align: right;\n    }\n</style>\n<table border=\"1\" class=\"dataframe\">\n  <thead>\n    <tr style=\"text-align: right;\">\n      <th></th>\n      <th>Date</th>\n      <th>Team 1</th>\n      <th>FT</th>\n      <th>HT</th>\n      <th>Team 2</th>\n      <th>Total goals</th>\n      <th>Home goals</th>\n      <th>Away goals</th>\n      <th>First half goals</th>\n      <th>Second half goals</th>\n    </tr>\n  </thead>\n  <tbody>\n    <tr>\n      <th>0</th>\n      <td>(Sat) 8 Sep 1888 (36)</td>\n      <td>Bolton Wanderers FC (1)</td>\n      <td>3-6</td>\n      <td>?</td>\n      <td>Derby County FC (1)</td>\n      <td>9</td>\n      <td>3</td>\n      <td>6</td>\n      <td>NaN</td>\n      <td>NaN</td>\n    </tr>\n    <tr>\n      <th>1</th>\n      <td>(Sat) 8 Sep 1888 (36)</td>\n      <td>Wolverhampton Wanderers FC (1)</td>\n      <td>1-1</td>\n      <td>?</td>\n      <td>Aston Villa FC (1)</td>\n      <td>2</td>\n      <td>1</td>\n      <td>1</td>\n      <td>NaN</td>\n      <td>NaN</td>\n    </tr>\n    <tr>\n      <th>2</th>\n      <td>(Sat) 8 Sep 1888 (36)</td>\n      <td>Preston North End FC (1)</td>\n      <td>5-2</td>\n      <td>?</td>\n      <td>Burnley FC (1)</td>\n      <td>7</td>\n      <td>5</td>\n      <td>2</td>\n      <td>NaN</td>\n      <td>NaN</td>\n    </tr>\n    <tr>\n      <th>3</th>\n      <td>(Sat) 8 Sep 1888 (36)</td>\n      <td>Everton FC (1)</td>\n      <td>2-1</td>\n      <td>?</td>\n      <td>Accrington FC (1878-1896) (1)</td>\n      <td>3</td>\n      <td>2</td>\n      <td>1</td>\n      <td>NaN</td>\n      <td>NaN</td>\n    </tr>\n    <tr>\n      <th>4</th>\n      <td>(Sat) 8 Sep 1888 (36)</td>\n      <td>Stoke City FC (1)</td>\n      <td>0-2</td>\n      <td>?</td>\n      <td>West Bromwich Albion FC (1)</td>\n      <td>2</td>\n      <td>0</td>\n      <td>2</td>\n      <td>NaN</td>\n      <td>NaN</td>\n    </tr>\n    <tr>\n      <th>...</th>\n      <td>...</td>\n      <td>...</td>\n      <td>...</td>\n      <td>...</td>\n      <td>...</td>\n      <td>...</td>\n      <td>...</td>\n      <td>...</td>\n      <td>...</td>\n      <td>...</td>\n    </tr>\n    <tr>\n      <th>48986</th>\n      <td>(Sat) 7 Mar 2020 (W10)</td>\n      <td>Wolverhampton Wanderers FC (29)</td>\n      <td>0-0</td>\n      <td>0-0</td>\n      <td>Brighton &amp; Hove Albion FC (29)</td>\n      <td>0</td>\n      <td>0</td>\n      <td>0</td>\n      <td>0.0</td>\n      <td>0.0</td>\n    </tr>\n    <tr>\n      <th>48987</th>\n      <td>(Sat) 7 Mar 2020 (W10)</td>\n      <td>Burnley FC (29)</td>\n      <td>1-1</td>\n      <td>1-0</td>\n      <td>Tottenham Hotspur FC (29)</td>\n      <td>2</td>\n      <td>1</td>\n      <td>1</td>\n      <td>1.0</td>\n      <td>1.0</td>\n    </tr>\n    <tr>\n      <th>48988</th>\n      <td>(Sun) 8 Mar 2020 (W10)</td>\n      <td>Chelsea FC (29)</td>\n      <td>4-0</td>\n      <td>2-0</td>\n      <td>Everton FC (29)</td>\n      <td>4</td>\n      <td>4</td>\n      <td>0</td>\n      <td>2.0</td>\n      <td>2.0</td>\n    </tr>\n    <tr>\n      <th>48989</th>\n      <td>(Sun) 8 Mar 2020 (W10)</td>\n      <td>Manchester United FC (29)</td>\n      <td>2-0</td>\n      <td>1-0</td>\n      <td>Manchester City FC (28)</td>\n      <td>2</td>\n      <td>2</td>\n      <td>0</td>\n      <td>1.0</td>\n      <td>1.0</td>\n    </tr>\n    <tr>\n      <th>48990</th>\n      <td>(Mon) 9 Mar 2020 (W11)</td>\n      <td>Leicester City FC (29)</td>\n      <td>4-0</td>\n      <td>1-0</td>\n      <td>Aston Villa FC (28)</td>\n      <td>4</td>\n      <td>4</td>\n      <td>0</td>\n      <td>1.0</td>\n      <td>3.0</td>\n    </tr>\n  </tbody>\n</table>\n<p>48991 rows × 10 columns</p>\n</div>"
     },
     "metadata": {},
     "execution_count": 86
    }
   ],
   "source": [
    "#Let's make some changes to the dataset to better suit our purposes.\n",
    "def add_columns(dataframe):\n",
    "    df = dataframe\n",
    "    #df['HT'].loc[df['HT'] == '?'] = np.NaN #Because there thousands of rows without HT score data (marked as '?'), this line converts these all to missing data (\"NaN\")\n",
    "    #This converts a string '2-1' to a list [2,1] for the FT and HT columns\n",
    "    FT_score_list = df['FT'].map(lambda FT: re.findall(r'\\d+', FT)) \n",
    "    HT_score_list = df['HT'].map(lambda HT: re.findall(r'\\d+', HT))\n",
    "    #Now that we have the scores in a list format, we can convert them to integers and play with them to create the following additional statistics:\n",
    "    df['Total goals'] = FT_score_list.map(lambda goals: int(goals[0]) + int(goals[1]))\n",
    "    df['Home goals'] = FT_score_list.map(lambda goals: int(goals[0]))\n",
    "    df['Away goals'] = FT_score_list.map(lambda goals: int(goals[1])) \n",
    "    df['First half goals'] = HT_score_list.map(lambda goals: int(goals[0]) + int(goals[1]) if goals != [] else np.NaN) #NOTE:the if condition is necessary because for many games the HT result is missing. They are marked as NaN if so.\n",
    "    df['Second half goals'] = df['Total goals'] - df['First half goals']\n",
    "    #Finally, delete the useless \"round\" column\n",
    "    df = df.drop(columns=['Round'])\n",
    "    return df\n",
    "\n",
    "merged_df = add_columns(df)\n",
    "merged_df"
   ]
  },
  {
   "cell_type": "markdown",
   "metadata": {},
   "source": [
    "# Analysing the dataset\n",
    "\n",
    "With a large historical dataset and some additional columns of information, we can now begin exploring.\n",
    "\n",
    "## Filtering the data\n",
    "\n",
    "Again, it would be useful to have some way to quickly isolate certain information to make this exploration easier. It would be great if we could:\n",
    "- Look up a particular team's fixtures\n",
    "- Look up particular matchups between two teams\n",
    "- Get some descriptive statistics about those filtered results, such as average number of goals scored\n"
   ]
  },
  {
   "cell_type": "code",
   "execution_count": 87,
   "metadata": {},
   "outputs": [
    {
     "output_type": "execute_result",
     "data": {
      "text/plain": "                         Date                       Team 1   FT   HT  \\\n584     (Sat) 3 Sep 1892 (35)      Blackburn Rovers FC (1)  4-3    ?   \n592    (Sat) 10 Sep 1892 (36)     Manchester United FC (2)  1-1    ?   \n600    (Sat) 17 Sep 1892 (37)               Burnley FC (4)  4-1    ?   \n606    (Sat) 24 Sep 1892 (38)               Everton FC (4)  6-0    ?   \n619     (Sat) 1 Oct 1892 (39)  West Bromwich Albion FC (5)  0-0    ?   \n...                       ...                          ...  ...  ...   \n48950   (Sat) 1 Feb 2020 (W5)    Manchester United FC (25)  0-0  0-0   \n48961  (Mon) 17 Feb 2020 (W8)              Chelsea FC (26)  0-2  0-1   \n48969  (Sun) 23 Feb 2020 (W8)    Manchester United FC (27)  3-0  1-0   \n48979   (Sun) 1 Mar 2020 (W9)              Everton FC (28)  1-1  1-1   \n48989  (Sun) 8 Mar 2020 (W10)    Manchester United FC (29)  2-0  1-0   \n\n                                Team 2  Total goals  Home goals  Away goals  \\\n584           Manchester United FC (1)            7           4           3   \n592                     Burnley FC (3)            2           1           1   \n600           Manchester United FC (3)            5           4           1   \n606           Manchester United FC (4)            6           6           0   \n619           Manchester United FC (5)            0           0           0   \n...                                ...          ...         ...         ...   \n48950  Wolverhampton Wanderers FC (25)            0           0           0   \n48961        Manchester United FC (26)            2           0           2   \n48969                  Watford FC (27)            3           3           0   \n48979        Manchester United FC (28)            2           1           1   \n48989          Manchester City FC (28)            2           2           0   \n\n       First half goals  Second half goals  \n584                 NaN                NaN  \n592                 NaN                NaN  \n600                 NaN                NaN  \n606                 NaN                NaN  \n619                 NaN                NaN  \n...                 ...                ...  \n48950               0.0                0.0  \n48961               1.0                1.0  \n48969               1.0                2.0  \n48979               2.0                0.0  \n48989               1.0                1.0  \n\n[3810 rows x 10 columns]",
      "text/html": "<div>\n<style scoped>\n    .dataframe tbody tr th:only-of-type {\n        vertical-align: middle;\n    }\n\n    .dataframe tbody tr th {\n        vertical-align: top;\n    }\n\n    .dataframe thead th {\n        text-align: right;\n    }\n</style>\n<table border=\"1\" class=\"dataframe\">\n  <thead>\n    <tr style=\"text-align: right;\">\n      <th></th>\n      <th>Date</th>\n      <th>Team 1</th>\n      <th>FT</th>\n      <th>HT</th>\n      <th>Team 2</th>\n      <th>Total goals</th>\n      <th>Home goals</th>\n      <th>Away goals</th>\n      <th>First half goals</th>\n      <th>Second half goals</th>\n    </tr>\n  </thead>\n  <tbody>\n    <tr>\n      <th>584</th>\n      <td>(Sat) 3 Sep 1892 (35)</td>\n      <td>Blackburn Rovers FC (1)</td>\n      <td>4-3</td>\n      <td>?</td>\n      <td>Manchester United FC (1)</td>\n      <td>7</td>\n      <td>4</td>\n      <td>3</td>\n      <td>NaN</td>\n      <td>NaN</td>\n    </tr>\n    <tr>\n      <th>592</th>\n      <td>(Sat) 10 Sep 1892 (36)</td>\n      <td>Manchester United FC (2)</td>\n      <td>1-1</td>\n      <td>?</td>\n      <td>Burnley FC (3)</td>\n      <td>2</td>\n      <td>1</td>\n      <td>1</td>\n      <td>NaN</td>\n      <td>NaN</td>\n    </tr>\n    <tr>\n      <th>600</th>\n      <td>(Sat) 17 Sep 1892 (37)</td>\n      <td>Burnley FC (4)</td>\n      <td>4-1</td>\n      <td>?</td>\n      <td>Manchester United FC (3)</td>\n      <td>5</td>\n      <td>4</td>\n      <td>1</td>\n      <td>NaN</td>\n      <td>NaN</td>\n    </tr>\n    <tr>\n      <th>606</th>\n      <td>(Sat) 24 Sep 1892 (38)</td>\n      <td>Everton FC (4)</td>\n      <td>6-0</td>\n      <td>?</td>\n      <td>Manchester United FC (4)</td>\n      <td>6</td>\n      <td>6</td>\n      <td>0</td>\n      <td>NaN</td>\n      <td>NaN</td>\n    </tr>\n    <tr>\n      <th>619</th>\n      <td>(Sat) 1 Oct 1892 (39)</td>\n      <td>West Bromwich Albion FC (5)</td>\n      <td>0-0</td>\n      <td>?</td>\n      <td>Manchester United FC (5)</td>\n      <td>0</td>\n      <td>0</td>\n      <td>0</td>\n      <td>NaN</td>\n      <td>NaN</td>\n    </tr>\n    <tr>\n      <th>...</th>\n      <td>...</td>\n      <td>...</td>\n      <td>...</td>\n      <td>...</td>\n      <td>...</td>\n      <td>...</td>\n      <td>...</td>\n      <td>...</td>\n      <td>...</td>\n      <td>...</td>\n    </tr>\n    <tr>\n      <th>48950</th>\n      <td>(Sat) 1 Feb 2020 (W5)</td>\n      <td>Manchester United FC (25)</td>\n      <td>0-0</td>\n      <td>0-0</td>\n      <td>Wolverhampton Wanderers FC (25)</td>\n      <td>0</td>\n      <td>0</td>\n      <td>0</td>\n      <td>0.0</td>\n      <td>0.0</td>\n    </tr>\n    <tr>\n      <th>48961</th>\n      <td>(Mon) 17 Feb 2020 (W8)</td>\n      <td>Chelsea FC (26)</td>\n      <td>0-2</td>\n      <td>0-1</td>\n      <td>Manchester United FC (26)</td>\n      <td>2</td>\n      <td>0</td>\n      <td>2</td>\n      <td>1.0</td>\n      <td>1.0</td>\n    </tr>\n    <tr>\n      <th>48969</th>\n      <td>(Sun) 23 Feb 2020 (W8)</td>\n      <td>Manchester United FC (27)</td>\n      <td>3-0</td>\n      <td>1-0</td>\n      <td>Watford FC (27)</td>\n      <td>3</td>\n      <td>3</td>\n      <td>0</td>\n      <td>1.0</td>\n      <td>2.0</td>\n    </tr>\n    <tr>\n      <th>48979</th>\n      <td>(Sun) 1 Mar 2020 (W9)</td>\n      <td>Everton FC (28)</td>\n      <td>1-1</td>\n      <td>1-1</td>\n      <td>Manchester United FC (28)</td>\n      <td>2</td>\n      <td>1</td>\n      <td>1</td>\n      <td>2.0</td>\n      <td>0.0</td>\n    </tr>\n    <tr>\n      <th>48989</th>\n      <td>(Sun) 8 Mar 2020 (W10)</td>\n      <td>Manchester United FC (29)</td>\n      <td>2-0</td>\n      <td>1-0</td>\n      <td>Manchester City FC (28)</td>\n      <td>2</td>\n      <td>2</td>\n      <td>0</td>\n      <td>1.0</td>\n      <td>1.0</td>\n    </tr>\n  </tbody>\n</table>\n<p>3810 rows × 10 columns</p>\n</div>"
     },
     "metadata": {},
     "execution_count": 87
    }
   ],
   "source": [
    "#Look up a particular team's fixtures\n",
    "def find_team_games(df, name):\n",
    "    games = df.loc[(df['Team 1'].str.contains(name, re.compile('(\\d)|(\\d\\d)')) == True) | (df['Team 2'].str.contains(name, re.compile('(\\d)|(\\d\\d)')) == True)]\n",
    "    return games\n",
    "\n",
    "#Let's find Manchester United results\n",
    "find_team_games(merged_df,'Manchester United')"
   ]
  },
  {
   "cell_type": "code",
   "execution_count": 88,
   "metadata": {},
   "outputs": [
    {
     "output_type": "execute_result",
     "data": {
      "text/plain": "                          Date                     Team 1   FT   HT  \\\n4725    (Tue) 25 Dec 1906 (52)  Manchester United FC (19)  0-0    ?   \n4867     (Mon) 1 Apr 1907 (13)          Liverpool FC (33)  0-1    ?   \n4934     (Sat) 7 Sep 1907 (35)   Manchester United FC (2)  4-0    ?   \n5228    (Wed) 25 Mar 1908 (12)          Liverpool FC (30)  7-4    ?   \n5345    (Sat) 26 Sep 1908 (38)   Manchester United FC (5)  3-2    ?   \n...                        ...                        ...  ...  ...   \n48236  (Sat) 10 Mar 2018 (W10)  Manchester United FC (30)  2-1  2-0   \n48491  (Sun) 16 Dec 2018 (W50)          Liverpool FC (17)  3-1  1-1   \n48591   (Sun) 24 Feb 2019 (W8)  Manchester United FC (27)  0-0  0-0   \n48791  (Sun) 20 Oct 2019 (W42)   Manchester United FC (9)  1-1  1-0   \n48931   (Sun) 19 Jan 2020 (W3)          Liverpool FC (22)  2-0  1-0   \n\n                          Team 2  Total goals  Home goals  Away goals  \\\n4725           Liverpool FC (19)            0           0           0   \n4867   Manchester United FC (34)            1           0           1   \n4934            Liverpool FC (2)            4           4           0   \n5228   Manchester United FC (29)           11           7           4   \n5345            Liverpool FC (6)            5           3           2   \n...                          ...          ...         ...         ...   \n48236          Liverpool FC (30)            3           2           1   \n48491  Manchester United FC (17)            4           3           1   \n48591          Liverpool FC (27)            0           0           0   \n48791           Liverpool FC (9)            2           1           1   \n48931  Manchester United FC (23)            2           2           0   \n\n       First half goals  Second half goals  \n4725                NaN                NaN  \n4867                NaN                NaN  \n4934                NaN                NaN  \n5228                NaN                NaN  \n5345                NaN                NaN  \n...                 ...                ...  \n48236               2.0                1.0  \n48491               2.0                2.0  \n48591               0.0                0.0  \n48791               1.0                1.0  \n48931               1.0                1.0  \n\n[170 rows x 10 columns]",
      "text/html": "<div>\n<style scoped>\n    .dataframe tbody tr th:only-of-type {\n        vertical-align: middle;\n    }\n\n    .dataframe tbody tr th {\n        vertical-align: top;\n    }\n\n    .dataframe thead th {\n        text-align: right;\n    }\n</style>\n<table border=\"1\" class=\"dataframe\">\n  <thead>\n    <tr style=\"text-align: right;\">\n      <th></th>\n      <th>Date</th>\n      <th>Team 1</th>\n      <th>FT</th>\n      <th>HT</th>\n      <th>Team 2</th>\n      <th>Total goals</th>\n      <th>Home goals</th>\n      <th>Away goals</th>\n      <th>First half goals</th>\n      <th>Second half goals</th>\n    </tr>\n  </thead>\n  <tbody>\n    <tr>\n      <th>4725</th>\n      <td>(Tue) 25 Dec 1906 (52)</td>\n      <td>Manchester United FC (19)</td>\n      <td>0-0</td>\n      <td>?</td>\n      <td>Liverpool FC (19)</td>\n      <td>0</td>\n      <td>0</td>\n      <td>0</td>\n      <td>NaN</td>\n      <td>NaN</td>\n    </tr>\n    <tr>\n      <th>4867</th>\n      <td>(Mon) 1 Apr 1907 (13)</td>\n      <td>Liverpool FC (33)</td>\n      <td>0-1</td>\n      <td>?</td>\n      <td>Manchester United FC (34)</td>\n      <td>1</td>\n      <td>0</td>\n      <td>1</td>\n      <td>NaN</td>\n      <td>NaN</td>\n    </tr>\n    <tr>\n      <th>4934</th>\n      <td>(Sat) 7 Sep 1907 (35)</td>\n      <td>Manchester United FC (2)</td>\n      <td>4-0</td>\n      <td>?</td>\n      <td>Liverpool FC (2)</td>\n      <td>4</td>\n      <td>4</td>\n      <td>0</td>\n      <td>NaN</td>\n      <td>NaN</td>\n    </tr>\n    <tr>\n      <th>5228</th>\n      <td>(Wed) 25 Mar 1908 (12)</td>\n      <td>Liverpool FC (30)</td>\n      <td>7-4</td>\n      <td>?</td>\n      <td>Manchester United FC (29)</td>\n      <td>11</td>\n      <td>7</td>\n      <td>4</td>\n      <td>NaN</td>\n      <td>NaN</td>\n    </tr>\n    <tr>\n      <th>5345</th>\n      <td>(Sat) 26 Sep 1908 (38)</td>\n      <td>Manchester United FC (5)</td>\n      <td>3-2</td>\n      <td>?</td>\n      <td>Liverpool FC (6)</td>\n      <td>5</td>\n      <td>3</td>\n      <td>2</td>\n      <td>NaN</td>\n      <td>NaN</td>\n    </tr>\n    <tr>\n      <th>...</th>\n      <td>...</td>\n      <td>...</td>\n      <td>...</td>\n      <td>...</td>\n      <td>...</td>\n      <td>...</td>\n      <td>...</td>\n      <td>...</td>\n      <td>...</td>\n      <td>...</td>\n    </tr>\n    <tr>\n      <th>48236</th>\n      <td>(Sat) 10 Mar 2018 (W10)</td>\n      <td>Manchester United FC (30)</td>\n      <td>2-1</td>\n      <td>2-0</td>\n      <td>Liverpool FC (30)</td>\n      <td>3</td>\n      <td>2</td>\n      <td>1</td>\n      <td>2.0</td>\n      <td>1.0</td>\n    </tr>\n    <tr>\n      <th>48491</th>\n      <td>(Sun) 16 Dec 2018 (W50)</td>\n      <td>Liverpool FC (17)</td>\n      <td>3-1</td>\n      <td>1-1</td>\n      <td>Manchester United FC (17)</td>\n      <td>4</td>\n      <td>3</td>\n      <td>1</td>\n      <td>2.0</td>\n      <td>2.0</td>\n    </tr>\n    <tr>\n      <th>48591</th>\n      <td>(Sun) 24 Feb 2019 (W8)</td>\n      <td>Manchester United FC (27)</td>\n      <td>0-0</td>\n      <td>0-0</td>\n      <td>Liverpool FC (27)</td>\n      <td>0</td>\n      <td>0</td>\n      <td>0</td>\n      <td>0.0</td>\n      <td>0.0</td>\n    </tr>\n    <tr>\n      <th>48791</th>\n      <td>(Sun) 20 Oct 2019 (W42)</td>\n      <td>Manchester United FC (9)</td>\n      <td>1-1</td>\n      <td>1-0</td>\n      <td>Liverpool FC (9)</td>\n      <td>2</td>\n      <td>1</td>\n      <td>1</td>\n      <td>1.0</td>\n      <td>1.0</td>\n    </tr>\n    <tr>\n      <th>48931</th>\n      <td>(Sun) 19 Jan 2020 (W3)</td>\n      <td>Liverpool FC (22)</td>\n      <td>2-0</td>\n      <td>1-0</td>\n      <td>Manchester United FC (23)</td>\n      <td>2</td>\n      <td>2</td>\n      <td>0</td>\n      <td>1.0</td>\n      <td>1.0</td>\n    </tr>\n  </tbody>\n</table>\n<p>170 rows × 10 columns</p>\n</div>"
     },
     "metadata": {},
     "execution_count": 88
    }
   ],
   "source": [
    "def find_matchups(df, team1, team2):\n",
    "    matchups = df.loc[(df['Team 1'].str.contains((team1), re.compile('(\\d)|(\\d\\d)')) == True) & (df['Team 2'].str.contains((team2), re.compile('(\\d)|(\\d\\d)')) == True) | (df['Team 1'].str.contains((team2), re.compile('(\\d)|(\\d\\d)')) == True) & (df['Team 2'].str.contains((team1), re.compile('(\\d)|(\\d\\d)')) == True)]\n",
    "    return matchups\n",
    "\n",
    "#Let's look at the Merseyside derby\n",
    "find_matchups(merged_df, 'Manchester United', 'Liverpool')"
   ]
  },
  {
   "cell_type": "code",
   "execution_count": 89,
   "metadata": {},
   "outputs": [
    {
     "output_type": "execute_result",
     "data": {
      "text/plain": "count    3810.000000\nmean        1.778215\nstd         1.447750\nmin         0.000000\n25%         1.000000\n50%         2.000000\n75%         3.000000\nmax        10.000000\nName: Home goals, dtype: float64"
     },
     "metadata": {},
     "execution_count": 89
    }
   ],
   "source": [
    "def describe_team(dataframe, team):\n",
    "    df = dataframe\n",
    "    games = df['Home goals'].loc[(df['Team 1'].str.contains(team, re.compile('(\\d)|(\\d\\d)')) == True) | (df['Team 2'].str.contains(team, re.compile('(\\d)|(\\d\\d)')) == True)].describe()\n",
    "    #away = df['Home goals'].loc[(df['Team 1'].str.contains(team, re.compile('(\\d)|(\\d\\d)')) == True) | (df['Team 2'].str.contains(team, re.compile('(\\d)|(\\d\\d)')) == True)].sum()\n",
    "    return games\n",
    "\n",
    "describe_team(merged_df, 'Manchester United')"
   ]
  }
 ],
 "metadata": {
  "language_info": {
   "codemirror_mode": {
    "name": "ipython",
    "version": 3
   },
   "file_extension": ".py",
   "mimetype": "text/x-python",
   "name": "python",
   "nbconvert_exporter": "python",
   "pygments_lexer": "ipython3",
   "version": "3.8.2-final"
  },
  "orig_nbformat": 2,
  "kernelspec": {
   "name": "football_python",
   "display_name": "football_python"
  }
 },
 "nbformat": 4,
 "nbformat_minor": 2
}